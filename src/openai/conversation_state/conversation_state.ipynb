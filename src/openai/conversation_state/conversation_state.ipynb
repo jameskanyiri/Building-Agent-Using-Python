{
 "cells": [
  {
   "cell_type": "code",
   "execution_count": 38,
   "metadata": {},
   "outputs": [],
   "source": [
    "from openai import OpenAI\n",
    "\n",
    "client = OpenAI()"
   ]
  },
  {
   "cell_type": "markdown",
   "metadata": {},
   "source": [
    "## Manually Managing state\n",
    "### Manually construct a past conversation"
   ]
  },
  {
   "cell_type": "code",
   "execution_count": 39,
   "metadata": {},
   "outputs": [
    {
     "data": {
      "text/plain": [
       "'James who?'"
      ]
     },
     "execution_count": 39,
     "metadata": {},
     "output_type": "execute_result"
    }
   ],
   "source": [
    "response = client.responses.create(\n",
    "    model=\"gpt-4o-mini\",\n",
    "    input=[\n",
    "        {\"role\": \"user\", \"content\": \"Knock knock\"},\n",
    "        {\"role\": \"assistant\", \"content\": \"Who is there\"},\n",
    "        {\"role\": \"user\", \"content\":\"James\"}\n",
    "    ]\n",
    ")\n",
    "\n",
    "response.output_text"
   ]
  },
  {
   "cell_type": "markdown",
   "metadata": {},
   "source": [
    "### Manually manage conversation state with the Responses API."
   ]
  },
  {
   "cell_type": "code",
   "execution_count": 40,
   "metadata": {},
   "outputs": [
    {
     "data": {
      "text/plain": [
       "Response(id='resp_68240046e7d881989e991310a5f9c3cf0bd39da137ad16a8', created_at=1747189830.0, error=None, incomplete_details=None, instructions=None, metadata={}, model='gpt-4o-mini-2024-07-18', object='response', output=[ResponseOutputMessage(id='msg_682400473af481989eaecb8d72f165760bd39da137ad16a8', content=[ResponseOutputText(annotations=[], text='Why did the scarecrow win an award?\\n\\nBecause he was outstanding in his field!', type='output_text')], role='assistant', status='completed', type='message')], parallel_tool_calls=True, temperature=1.0, tool_choice='auto', tools=[], top_p=1.0, max_output_tokens=None, previous_response_id=None, reasoning=Reasoning(effort=None, generate_summary=None, summary=None), service_tier='default', status='completed', text=ResponseTextConfig(format=ResponseFormatText(type='text')), truncation='disabled', usage=ResponseUsage(input_tokens=11, input_tokens_details=InputTokensDetails(cached_tokens=0), output_tokens=18, output_tokens_details=OutputTokensDetails(reasoning_tokens=0), total_tokens=29), user=None, store=False)"
      ]
     },
     "execution_count": 40,
     "metadata": {},
     "output_type": "execute_result"
    }
   ],
   "source": [
    "message_history = [\n",
    "    {\"role\": \"user\", \"content\": \"Tell me a joke\"}\n",
    "]\n",
    "\n",
    "response = client.responses.create(\n",
    "    model=\"gpt-4o-mini\",\n",
    "    input=message_history,\n",
    "    store=False\n",
    ")\n",
    "\n",
    "response"
   ]
  },
  {
   "cell_type": "code",
   "execution_count": 41,
   "metadata": {},
   "outputs": [
    {
     "data": {
      "text/plain": [
       "'Why did the scarecrow win an award?\\n\\nBecause he was outstanding in his field!'"
      ]
     },
     "execution_count": 41,
     "metadata": {},
     "output_type": "execute_result"
    }
   ],
   "source": [
    "response.output_text"
   ]
  },
  {
   "cell_type": "code",
   "execution_count": 42,
   "metadata": {},
   "outputs": [
    {
     "data": {
      "text/plain": [
       "[ResponseOutputMessage(id='msg_682400473af481989eaecb8d72f165760bd39da137ad16a8', content=[ResponseOutputText(annotations=[], text='Why did the scarecrow win an award?\\n\\nBecause he was outstanding in his field!', type='output_text')], role='assistant', status='completed', type='message')]"
      ]
     },
     "execution_count": 42,
     "metadata": {},
     "output_type": "execute_result"
    }
   ],
   "source": [
    "response.output"
   ]
  },
  {
   "cell_type": "code",
   "execution_count": 43,
   "metadata": {},
   "outputs": [
    {
     "name": "stdout",
     "output_type": "stream",
     "text": [
      "ID: msg_682400473af481989eaecb8d72f165760bd39da137ad16a8\n",
      "role: assistant\n",
      "Content: [ResponseOutputText(annotations=[], text='Why did the scarecrow win an award?\\n\\nBecause he was outstanding in his field!', type='output_text')]\n"
     ]
    }
   ],
   "source": [
    "for response in response.output:\n",
    "    print(f\"ID: {response.id}\")\n",
    "    print(f\"role: {response.role}\")\n",
    "    print(f\"Content: {response.content}\")\n",
    "    \n",
    "    # Add the response to message history\n",
    "    message_history.append(\n",
    "        {\n",
    "            \"role\": response.role,\n",
    "            \"content\": response.content\n",
    "        }\n",
    "    )\n",
    "    "
   ]
  },
  {
   "cell_type": "code",
   "execution_count": 44,
   "metadata": {},
   "outputs": [
    {
     "data": {
      "text/plain": [
       "[{'role': 'user', 'content': 'Tell me a joke'},\n",
       " {'role': 'assistant',\n",
       "  'content': [ResponseOutputText(annotations=[], text='Why did the scarecrow win an award?\\n\\nBecause he was outstanding in his field!', type='output_text')]}]"
      ]
     },
     "execution_count": 44,
     "metadata": {},
     "output_type": "execute_result"
    }
   ],
   "source": [
    "message_history"
   ]
  },
  {
   "cell_type": "code",
   "execution_count": 45,
   "metadata": {},
   "outputs": [
    {
     "data": {
      "text/plain": [
       "[{'role': 'user', 'content': 'Tell me a joke'},\n",
       " {'role': 'assistant',\n",
       "  'content': [ResponseOutputText(annotations=[], text='Why did the scarecrow win an award?\\n\\nBecause he was outstanding in his field!', type='output_text')]},\n",
       " {'role': 'user', 'content': 'Tell me another joke'}]"
      ]
     },
     "execution_count": 45,
     "metadata": {},
     "output_type": "execute_result"
    }
   ],
   "source": [
    "# And another message from user\n",
    "message_history.append(\n",
    "    {\n",
    "        \"role\": \"user\",\n",
    "        \"content\": \"Tell me another joke\"\n",
    "    }\n",
    ")\n",
    "\n",
    "message_history"
   ]
  },
  {
   "cell_type": "code",
   "execution_count": 46,
   "metadata": {},
   "outputs": [
    {
     "data": {
      "text/plain": [
       "\"Why don't skeletons fight each other?\\n\\nThey don't have the guts!\""
      ]
     },
     "execution_count": 46,
     "metadata": {},
     "output_type": "execute_result"
    }
   ],
   "source": [
    "second_response = client.responses.create(\n",
    "    model=\"gpt-4o-mini\",\n",
    "    input=message_history,\n",
    "    store=False\n",
    ")\n",
    "\n",
    "second_response.output_text"
   ]
  },
  {
   "cell_type": "markdown",
   "metadata": {},
   "source": [
    "## OpenAI APIs for conversation state"
   ]
  },
  {
   "cell_type": "markdown",
   "metadata": {},
   "source": [
    "### Manually manage conversation state with the Responses API."
   ]
  },
  {
   "cell_type": "code",
   "execution_count": 50,
   "metadata": {},
   "outputs": [
    {
     "name": "stdout",
     "output_type": "stream",
     "text": [
      "Why don't skeletons fight each other?\n",
      "\n",
      "They don't have the guts!\n",
      "\n",
      " ================ Follow-up question ============== \n",
      "\n",
      "The joke plays on a pun involving the phrase \"don't have the guts.\" \n",
      "\n",
      "1. **Literal Meaning**: Skeletons are, by definition, just bones—they literally lack organs, including guts.\n",
      "\n",
      "2. **Figurative Meaning**: The phrase \"don't have the guts\" is commonly used to imply that someone lacks courage or bravery.\n",
      "\n",
      "The humor comes from the clever twist that combines both meanings in a lighthearted way, making it amusing without being too deep or complex.\n"
     ]
    }
   ],
   "source": [
    "response = client.responses.create(\n",
    "    model=\"gpt-4o-mini\",\n",
    "    input=[{\"role\": \"user\", \"content\":\"Tell me a joke\"}]\n",
    ")\n",
    "\n",
    "print(response.output_text)\n",
    "\n",
    "print(\"\\n ================ Follow-up question ============== \\n\")\n",
    "\n",
    "\n",
    "second_response = client.responses.create(\n",
    "    model=\"gpt-4o-mini\",\n",
    "    previous_response_id=response.id,\n",
    "    input=[{\"role\":\"user\", \"content\":\"explain why it is funny\"}]\n",
    ")\n",
    "\n",
    "print(second_response.output_text)"
   ]
  },
  {
   "cell_type": "code",
   "execution_count": null,
   "metadata": {},
   "outputs": [],
   "source": []
  }
 ],
 "metadata": {
  "kernelspec": {
   "display_name": ".venv",
   "language": "python",
   "name": "python3"
  },
  "language_info": {
   "codemirror_mode": {
    "name": "ipython",
    "version": 3
   },
   "file_extension": ".py",
   "mimetype": "text/x-python",
   "name": "python",
   "nbconvert_exporter": "python",
   "pygments_lexer": "ipython3",
   "version": "3.13.3"
  }
 },
 "nbformat": 4,
 "nbformat_minor": 2
}

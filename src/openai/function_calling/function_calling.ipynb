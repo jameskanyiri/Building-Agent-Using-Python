{
 "cells": [
  {
   "cell_type": "code",
   "execution_count": 100,
   "metadata": {},
   "outputs": [],
   "source": [
    "from openai import OpenAI\n",
    "\n",
    "client = OpenAI()"
   ]
  },
  {
   "cell_type": "markdown",
   "metadata": {},
   "source": [
    "## Tools to get the current temperature for a given location"
   ]
  },
  {
   "cell_type": "code",
   "execution_count": 101,
   "metadata": {},
   "outputs": [],
   "source": [
    "\n",
    "tools = [\n",
    "    {\n",
    "        \"type\": \"function\",\n",
    "        \"name\": \"get_weather\",\n",
    "        \"description\": \"Get the current temperature for a given location\",\n",
    "        \"parameters\": {\n",
    "            \"type\": \"object\",\n",
    "            \"properties\": {\n",
    "                \"location\": {\n",
    "                    \"type\":\"string\",\n",
    "                    \"description\": \"City and country eg Nairobi, Kenya\"\n",
    "                }\n",
    "            },\n",
    "            \"required\": [\n",
    "                \"location\"\n",
    "            ],\n",
    "            \"additionalProperties\": False\n",
    "        }\n",
    "    }\n",
    "]"
   ]
  },
  {
   "cell_type": "code",
   "execution_count": 102,
   "metadata": {},
   "outputs": [],
   "source": [
    "response = client.responses.create(\n",
    "    model=\"gpt-4o-mini\",\n",
    "    input=[\n",
    "        {\n",
    "            \"role\": \"user\",\n",
    "            \"content\": \"What is the weather in Nairobi\"\n",
    "        }\n",
    "    ],\n",
    "    tools=tools\n",
    ")"
   ]
  },
  {
   "cell_type": "code",
   "execution_count": 103,
   "metadata": {},
   "outputs": [
    {
     "name": "stdout",
     "output_type": "stream",
     "text": [
      "{\n",
      "  \"arguments\": \"{\\\"location\\\":\\\"Nairobi, Kenya\\\"}\",\n",
      "  \"call_id\": \"call_XRNHsNJpt3y1tn3Kc7LeDT9A\",\n",
      "  \"name\": \"get_weather\",\n",
      "  \"type\": \"function_call\",\n",
      "  \"id\": \"fc_681e6776af448191b4602941461df9c80b9da15853369622\",\n",
      "  \"status\": \"completed\"\n",
      "}\n"
     ]
    }
   ],
   "source": [
    "print(response.output[0].model_dump_json(indent=2))"
   ]
  },
  {
   "cell_type": "markdown",
   "metadata": {},
   "source": [
    "## Tool to send an Email"
   ]
  },
  {
   "cell_type": "code",
   "execution_count": 104,
   "metadata": {},
   "outputs": [],
   "source": [
    "\n",
    "tools = [\n",
    "    {\n",
    "        \"type\": \"function\",\n",
    "        \"name\": \"send_email\",\n",
    "        \"description\": \"Send an email to a given recipient with a subject and message\",\n",
    "        \"parameters\": {\n",
    "            \"type\": \"object\",\n",
    "            \"properties\": {\n",
    "                \"to\": {\n",
    "                    \"type\": \"string\",\n",
    "                    \"description\": \"The recipient of the email address\",\n",
    "                },\n",
    "                \"subject\": {\"type\": \"string\", \"description\": \"Email subject line\"},\n",
    "                \"body\": {\"type\": \"string\", \"description\": \"Body of the email message\"},\n",
    "            },\n",
    "            \"required\": [\"to\", \"subject\", \"body\"],\n",
    "            \"additionalProperties\": False,\n",
    "        },\n",
    "    }\n",
    "]\n",
    "\n",
    "response = client.responses.create(\n",
    "    model=\"gpt-4o-mini\",\n",
    "    input=[\n",
    "        {\n",
    "            \"role\": \"user\",\n",
    "            \"content\": \"Can you send an email to jmskanyiri@gmail.com and otuyaalvin@gmail.com saying hi\",\n",
    "        }\n",
    "    ],\n",
    "    tools=tools\n",
    ")"
   ]
  },
  {
   "cell_type": "code",
   "execution_count": 105,
   "metadata": {},
   "outputs": [
    {
     "name": "stdout",
     "output_type": "stream",
     "text": [
      "{\n",
      "  \"arguments\": \"{\\\"to\\\":\\\"jmskanyiri@gmail.com\\\",\\\"subject\\\":\\\"Hello!\\\",\\\"body\\\":\\\"Hi!\\\"}\",\n",
      "  \"call_id\": \"call_NKcrrO8byxqgCT1kTUZqPngh\",\n",
      "  \"name\": \"send_email\",\n",
      "  \"type\": \"function_call\",\n",
      "  \"id\": \"fc_681e677829c88191b0d25f78a4f8e388031ef305ac9d2fea\",\n",
      "  \"status\": \"completed\"\n",
      "}\n",
      "{\n",
      "  \"arguments\": \"{\\\"to\\\":\\\"otuyaalvin@gmail.com\\\",\\\"subject\\\":\\\"Hello!\\\",\\\"body\\\":\\\"Hi!\\\"}\",\n",
      "  \"call_id\": \"call_MQ4WuN4pWgLQs2U9elQMJsdY\",\n",
      "  \"name\": \"send_email\",\n",
      "  \"type\": \"function_call\",\n",
      "  \"id\": \"fc_681e67787f8c81918514ced075f97e77031ef305ac9d2fea\",\n",
      "  \"status\": \"completed\"\n",
      "}\n"
     ]
    }
   ],
   "source": [
    "for tool_call in response.output:\n",
    "    print(tool_call.model_dump_json(indent=2))"
   ]
  },
  {
   "cell_type": "markdown",
   "metadata": {},
   "source": [
    "## Function to search knowledge base~"
   ]
  },
  {
   "cell_type": "code",
   "execution_count": 106,
   "metadata": {},
   "outputs": [],
   "source": [
    "tools = [\n",
    "    {\n",
    "        \"type\": \"function\",\n",
    "        \"name\": \"search_knowledge_base\",\n",
    "        \"description\": \"Query a knowledge base to retrieve relevant info in a topic\",\n",
    "        \"parameters\": {\n",
    "            \"type\": \"object\",\n",
    "            \"properties\": {\n",
    "                \"query\": {\n",
    "                    \"type\": \"string\",\n",
    "                    \"description\": \"The user question or search query\"\n",
    "                },\n",
    "                \"options\": {\n",
    "                    \"type\": \"object\",\n",
    "                    \"properties\": {\n",
    "                        \"num_results\": {\n",
    "                            \"type\": \"number\",\n",
    "                            \"description\": \"Number of top results to return\"\n",
    "                        },\n",
    "                        \"domain_filter\": {\n",
    "                            \"type\": [\"string\", \"null\"],\n",
    "                            \"description\": \"Optional domain to narrow the search eg finance, medical. Pass null if not needed\"\n",
    "                        },\n",
    "                        \"sort_by\": {\n",
    "                            \"type\": [\"string\", \"null\"],\n",
    "                            \"enum\": [\"relevance\", \"date\", \"popularity\", \"alphabetical\"],\n",
    "                            \"description\": \"How to sort the results. Pass null if not needed\"\n",
    "                        }\n",
    "                    },\n",
    "                    \"required\": [\n",
    "                        \"num_results\",\n",
    "                        \"domain_filter\",\n",
    "                        \"sort_by\"\n",
    "                    ],\n",
    "                    \"additionalProperties\": False\n",
    "                }\n",
    "            },\n",
    "            \"required\": [\n",
    "                \"query\",\n",
    "                \"options\"\n",
    "            ],\n",
    "            \"additionalProperties\": False\n",
    "        }\n",
    "    }\n",
    "]\n",
    "\n",
    "response = client.responses.create(\n",
    "    model=\"gpt-4o-mini\",\n",
    "    input=[\n",
    "        {\n",
    "            \"role\": \"user\",\n",
    "            \"content\": \"Can you find information about ChatGPT in the AI knowledge base?\"\n",
    "        }\n",
    "    ],\n",
    "    tools=tools\n",
    ")"
   ]
  },
  {
   "cell_type": "code",
   "execution_count": 107,
   "metadata": {},
   "outputs": [
    {
     "name": "stdout",
     "output_type": "stream",
     "text": [
      "{\n",
      "  \"arguments\": \"{\\\"query\\\":\\\"ChatGPT\\\",\\\"options\\\":{\\\"num_results\\\":5,\\\"domain_filter\\\":null,\\\"sort_by\\\":\\\"relevance\\\"}}\",\n",
      "  \"call_id\": \"call_yaJthG3IQj3JjfJNap0Goj7O\",\n",
      "  \"name\": \"search_knowledge_base\",\n",
      "  \"type\": \"function_call\",\n",
      "  \"id\": \"fc_681e677a1108819186fb1b302d243a6a0adda71e5014e567\",\n",
      "  \"status\": \"completed\"\n",
      "}\n"
     ]
    }
   ],
   "source": [
    "for tool_call in response.output:\n",
    "    print(tool_call.model_dump_json(indent=2))"
   ]
  },
  {
   "cell_type": "markdown",
   "metadata": {},
   "source": [
    "## 🧠 Function Calling Steps"
   ]
  },
  {
   "cell_type": "markdown",
   "metadata": {},
   "source": [
    "### Sample get_weather function that you have defined in your codebase"
   ]
  },
  {
   "cell_type": "code",
   "execution_count": 108,
   "metadata": {},
   "outputs": [],
   "source": [
    "import requests\n",
    "\n",
    "def get_weather(latitude, longitude):\n",
    "    response = requests.get(f\"https://api.open-meteo.com/v1/forecast?latitude={latitude}&longitude={longitude}&current=temperature_2m,wind_speed_10m&hourly=temperature_2m,relative_humidity_2m,wind_speed_10m\")\n",
    "    data = response.json()\n",
    "    return data['current']['temperature_2m']\n"
   ]
  },
  {
   "cell_type": "markdown",
   "metadata": {},
   "source": [
    "1. **Call the model**  \n",
    "   Send the system message, user messages, and the list of available functions to the model."
   ]
  },
  {
   "cell_type": "code",
   "execution_count": 109,
   "metadata": {},
   "outputs": [],
   "source": [
    "tools = [\n",
    "    {\n",
    "        \"type\": \"function\",\n",
    "        \"name\": \"get_weather\",\n",
    "        \"description\": \"Get the current temperature for provided coordinates in celsius\",\n",
    "        \"strict\": True,\n",
    "        \"parameters\": {\n",
    "            \"type\": \"object\",\n",
    "            \"properties\": {\n",
    "                \"latitude\": {\n",
    "                    \"type\": \"number\",\n",
    "                },\n",
    "                \"longitude\": {\n",
    "                    \"type\": \"number\",\n",
    "                },\n",
    "            },\n",
    "            \"required\": [\n",
    "                \"latitude\",\n",
    "                \"longitude\"\n",
    "            ],\n",
    "            \"additionalProperties\": False\n",
    "        },\n",
    "    }\n",
    "]\n",
    "\n",
    "input_message = [\n",
    "    {\n",
    "        \"role\": \"user\",\n",
    "        \"content\": \"What is the weather in Nairobi Kenya\",\n",
    "    }\n",
    "]\n",
    "\n",
    "response = client.responses.create(\n",
    "    model=\"gpt-4o-mini\",\n",
    "    input=input_message,\n",
    "    tools=tools\n",
    ")"
   ]
  },
  {
   "cell_type": "markdown",
   "metadata": {},
   "source": [
    "2. **Model decides to call a function**  \n",
    "   The model returns the function name and input arguments."
   ]
  },
  {
   "cell_type": "code",
   "execution_count": 110,
   "metadata": {},
   "outputs": [
    {
     "data": {
      "text/plain": [
       "[ResponseFunctionToolCall(arguments='{\"latitude\":-1.286389,\"longitude\":36.817223}', call_id='call_8e8Gcz258ooVYfe1Rl4wKM4g', name='get_weather', type='function_call', id='fc_681e677ba9488191b2ae90c8d4c834530ab54058d7dcd812', status='completed')]"
      ]
     },
     "execution_count": 110,
     "metadata": {},
     "output_type": "execute_result"
    }
   ],
   "source": [
    "response.output"
   ]
  },
  {
   "cell_type": "markdown",
   "metadata": {},
   "source": [
    "3. **Execute the function**  \n",
    "   Run the corresponding function code, parse the model's response, and handle the function call.\n"
   ]
  },
  {
   "cell_type": "code",
   "execution_count": 111,
   "metadata": {},
   "outputs": [
    {
     "name": "stdout",
     "output_type": "stream",
     "text": [
      "{\n",
      "  \"arguments\": \"{\\\"latitude\\\":-1.286389,\\\"longitude\\\":36.817223}\",\n",
      "  \"call_id\": \"call_8e8Gcz258ooVYfe1Rl4wKM4g\",\n",
      "  \"name\": \"get_weather\",\n",
      "  \"type\": \"function_call\",\n",
      "  \"id\": \"fc_681e677ba9488191b2ae90c8d4c834530ab54058d7dcd812\",\n",
      "  \"status\": \"completed\"\n",
      "}\n"
     ]
    }
   ],
   "source": [
    "#Get the tool call\n",
    "tool_call = response.output[0]\n",
    "print(tool_call.model_dump_json(indent=2))"
   ]
  },
  {
   "cell_type": "code",
   "execution_count": 112,
   "metadata": {},
   "outputs": [
    {
     "data": {
      "text/plain": [
       "'{\"latitude\":-1.286389,\"longitude\":36.817223}'"
      ]
     },
     "execution_count": 112,
     "metadata": {},
     "output_type": "execute_result"
    }
   ],
   "source": [
    "#Get the tool arguments\n",
    "tool_call.arguments"
   ]
  },
  {
   "cell_type": "code",
   "execution_count": 113,
   "metadata": {},
   "outputs": [
    {
     "data": {
      "text/plain": [
       "{'latitude': -1.286389, 'longitude': 36.817223}"
      ]
     },
     "execution_count": 113,
     "metadata": {},
     "output_type": "execute_result"
    }
   ],
   "source": [
    "import json\n",
    "\n",
    "#convert the json formatted string into a python dictionary\n",
    "args = json.loads(tool_call.arguments)\n",
    "\n",
    "args"
   ]
  },
  {
   "cell_type": "code",
   "execution_count": 114,
   "metadata": {},
   "outputs": [
    {
     "data": {
      "text/plain": [
       "17.5"
      ]
     },
     "execution_count": 114,
     "metadata": {},
     "output_type": "execute_result"
    }
   ],
   "source": [
    "#Call the function passing the required arguments\n",
    "\n",
    "results = get_weather(args['latitude'], args['longitude'])\n",
    "results"
   ]
  },
  {
   "cell_type": "markdown",
   "metadata": {},
   "source": [
    "4. **Return results to the model**  \n",
    "   Send the results of the function back to the model so it can use them in its response.\n"
   ]
  },
  {
   "cell_type": "code",
   "execution_count": 115,
   "metadata": {},
   "outputs": [],
   "source": [
    "#append model's function call message\n",
    "input_message.append(tool_call)\n",
    "\n",
    "#append result message\n",
    "input_message.append(\n",
    "    {\n",
    "        \"type\": \"function_call_output\",\n",
    "        \"call_id\": tool_call.call_id,\n",
    "        \"output\": str(results)\n",
    "    }\n",
    ")\n",
    "\n",
    "response_2 = client.responses.create(\n",
    "    model=\"gpt-4o-mini\",\n",
    "    input=input_message,\n",
    "    tools=tools\n",
    ")\n"
   ]
  },
  {
   "cell_type": "markdown",
   "metadata": {},
   "source": [
    "5. **Model generates final response**  \n",
    "   The model incorporates the function results into its output and sends a final response.\n"
   ]
  },
  {
   "cell_type": "code",
   "execution_count": 116,
   "metadata": {},
   "outputs": [
    {
     "name": "stdout",
     "output_type": "stream",
     "text": [
      "The current temperature in Nairobi, Kenya, is 17.5°C. If you need more details about the weather, let me know!\n"
     ]
    }
   ],
   "source": [
    "print(response_2.output_text)"
   ]
  },
  {
   "cell_type": "markdown",
   "metadata": {},
   "source": [
    "## Handling function calls"
   ]
  },
  {
   "cell_type": "code",
   "execution_count": 117,
   "metadata": {},
   "outputs": [],
   "source": [
    "#Functions\n",
    "\n",
    "def get_weather(location: str):\n",
    "    return 14\n",
    "\n",
    "def send_email(to:str, subject:str, body:str):\n",
    "    return f\"Email sent to {to}\""
   ]
  },
  {
   "cell_type": "code",
   "execution_count": 123,
   "metadata": {},
   "outputs": [],
   "source": [
    "tools = [\n",
    "    {\n",
    "        \"type\": \"function\",\n",
    "        \"name\": \"get_weather\",\n",
    "        \"description\": \"Get the current temperature for a given location\",\n",
    "        \"parameters\": {\n",
    "            \"type\": \"object\",\n",
    "            \"properties\": {\n",
    "                \"location\": {\n",
    "                    \"type\": \"string\",\n",
    "                    \"description\": \"City and country eg Nairobi, Kenya\",\n",
    "                }\n",
    "            },\n",
    "            \"required\": [\"location\"],\n",
    "            \"additionalProperties\": False,\n",
    "        },\n",
    "    },\n",
    "    {\n",
    "        \"type\": \"function\",\n",
    "        \"name\": \"send_email\",\n",
    "        \"description\": \"Send an email to a given recipient with a subject and message\",\n",
    "        \"parameters\": {\n",
    "            \"type\": \"object\",\n",
    "            \"properties\": {\n",
    "                \"to\": {\n",
    "                    \"type\": \"string\",\n",
    "                    \"description\": \"The recipient of the email address\",\n",
    "                },\n",
    "                \"subject\": {\n",
    "                    \"type\": \"string\",\n",
    "                    \"description\": \"Email subject line\",\n",
    "                },\n",
    "                \"body\": {\n",
    "                    \"type\": \"string\",\n",
    "                    \"description\": \"Body of the email message\",\n",
    "                },\n",
    "            },\n",
    "            \"required\": [\"to\", \"subject\", \"body\"],\n",
    "            \"additionalProperties\": False,\n",
    "        },\n",
    "    },\n",
    "]\n",
    "\n",
    "input_message = [\n",
    "    {\n",
    "        \"role\": \"user\",\n",
    "        \"content\": \"What is the weather in Nairobi Kenya. send an email to jmskanyiri@gmail.com and otuyaalvin@gmail.com saying hi\",\n",
    "    }\n",
    "]\n",
    "\n",
    "response = client.responses.create(\n",
    "    model=\"gpt-4o-mini\",\n",
    "    input=input_message,\n",
    "    tools=tools,\n",
    ")"
   ]
  },
  {
   "cell_type": "code",
   "execution_count": 124,
   "metadata": {},
   "outputs": [
    {
     "name": "stdout",
     "output_type": "stream",
     "text": [
      "{\n",
      "  \"arguments\": \"{\\\"location\\\":\\\"Nairobi, Kenya\\\"}\",\n",
      "  \"call_id\": \"call_061CDDvRQTMGdzqZzlwtzPxG\",\n",
      "  \"name\": \"get_weather\",\n",
      "  \"type\": \"function_call\",\n",
      "  \"id\": \"fc_681e67b927fc8191ab29b7b13ba7a7820fa017c2d745b68a\",\n",
      "  \"status\": \"completed\"\n",
      "}\n",
      "{\n",
      "  \"arguments\": \"{\\\"to\\\":\\\"jmskanyiri@gmail.com\\\",\\\"subject\\\":\\\"Hello!\\\",\\\"body\\\":\\\"Hi!\\\"}\",\n",
      "  \"call_id\": \"call_U7nNxcseWk94XAUbHHqjTn54\",\n",
      "  \"name\": \"send_email\",\n",
      "  \"type\": \"function_call\",\n",
      "  \"id\": \"fc_681e67b967648191b607ddfd29dba41b0fa017c2d745b68a\",\n",
      "  \"status\": \"completed\"\n",
      "}\n",
      "{\n",
      "  \"arguments\": \"{\\\"to\\\":\\\"otuyaalvin@gmail.com\\\",\\\"subject\\\":\\\"Hello!\\\",\\\"body\\\":\\\"Hi!\\\"}\",\n",
      "  \"call_id\": \"call_os5ywI4NZ0xrSZ30ZFYn8Krz\",\n",
      "  \"name\": \"send_email\",\n",
      "  \"type\": \"function_call\",\n",
      "  \"id\": \"fc_681e67b9c468819187eec45eb3164c060fa017c2d745b68a\",\n",
      "  \"status\": \"completed\"\n",
      "}\n"
     ]
    }
   ],
   "source": [
    "for tool_call in response.output:\n",
    "    print(tool_call.model_dump_json(indent=2))"
   ]
  },
  {
   "cell_type": "code",
   "execution_count": 125,
   "metadata": {},
   "outputs": [],
   "source": [
    "def call_function(name, args):\n",
    "    if name == \"get_weather\":\n",
    "        return get_weather(**args)\n",
    "    \n",
    "    if name == \"send_email\":\n",
    "        return send_email(**args)"
   ]
  },
  {
   "cell_type": "code",
   "execution_count": 126,
   "metadata": {},
   "outputs": [
    {
     "name": "stdout",
     "output_type": "stream",
     "text": [
      "get_weather\n",
      "{'location': 'Nairobi, Kenya'}\n",
      "\n",
      "\n",
      "send_email\n",
      "{'to': 'jmskanyiri@gmail.com', 'subject': 'Hello!', 'body': 'Hi!'}\n",
      "\n",
      "\n",
      "send_email\n",
      "{'to': 'otuyaalvin@gmail.com', 'subject': 'Hello!', 'body': 'Hi!'}\n",
      "\n",
      "\n"
     ]
    }
   ],
   "source": [
    "for tool_call in response.output:\n",
    "    \n",
    "    #Get the tool name\n",
    "    tool_name = tool_call.name\n",
    "    print(tool_name)\n",
    "    \n",
    "    #Get the tool args\n",
    "    tool_arguments = json.loads(tool_call.arguments)\n",
    "    print(tool_arguments)\n",
    "    \n",
    "    input_message.append(tool_call)\n",
    "    \n",
    "    print(\"\\n\")\n",
    "    \n",
    "    tool_result = call_function(tool_name, tool_arguments)\n",
    "    \n",
    "    input_message.append(\n",
    "        {\n",
    "            \"type\": \"function_call_output\",\n",
    "            \"call_id\": tool_call.call_id,\n",
    "            \"output\": str(tool_result)\n",
    "        }\n",
    "    )\n",
    "    "
   ]
  },
  {
   "cell_type": "code",
   "execution_count": 127,
   "metadata": {},
   "outputs": [
    {
     "name": "stdout",
     "output_type": "stream",
     "text": [
      "{'role': 'user', 'content': 'What is the weather in Nairobi Kenya. send an email to jmskanyiri@gmail.com and otuyaalvin@gmail.com saying hi'}\n",
      "ResponseFunctionToolCall(arguments='{\"location\":\"Nairobi, Kenya\"}', call_id='call_061CDDvRQTMGdzqZzlwtzPxG', name='get_weather', type='function_call', id='fc_681e67b927fc8191ab29b7b13ba7a7820fa017c2d745b68a', status='completed')\n",
      "{'type': 'function_call_output', 'call_id': 'call_061CDDvRQTMGdzqZzlwtzPxG', 'output': '14'}\n",
      "ResponseFunctionToolCall(arguments='{\"to\":\"jmskanyiri@gmail.com\",\"subject\":\"Hello!\",\"body\":\"Hi!\"}', call_id='call_U7nNxcseWk94XAUbHHqjTn54', name='send_email', type='function_call', id='fc_681e67b967648191b607ddfd29dba41b0fa017c2d745b68a', status='completed')\n",
      "{'type': 'function_call_output', 'call_id': 'call_U7nNxcseWk94XAUbHHqjTn54', 'output': 'Email sent to jmskanyiri@gmail.com'}\n",
      "ResponseFunctionToolCall(arguments='{\"to\":\"otuyaalvin@gmail.com\",\"subject\":\"Hello!\",\"body\":\"Hi!\"}', call_id='call_os5ywI4NZ0xrSZ30ZFYn8Krz', name='send_email', type='function_call', id='fc_681e67b9c468819187eec45eb3164c060fa017c2d745b68a', status='completed')\n",
      "{'type': 'function_call_output', 'call_id': 'call_os5ywI4NZ0xrSZ30ZFYn8Krz', 'output': 'Email sent to otuyaalvin@gmail.com'}\n"
     ]
    }
   ],
   "source": [
    "for message in input_message:\n",
    "    print(message)"
   ]
  },
  {
   "cell_type": "code",
   "execution_count": 128,
   "metadata": {},
   "outputs": [
    {
     "data": {
      "text/plain": [
       "'Here’s a summary of the completed tasks:\\n\\n1. **Weather Check**: Retrieved the current temperature in Nairobi, Kenya, which is 14°C.\\n2. **Emails Sent**:\\n   - An email with the subject \"Hello!\" and message \"Hi!\" was sent to **jmskanyiri@gmail.com**.\\n   - An email with the same subject and message was sent to **otuyaalvin@gmail.com**.'"
      ]
     },
     "execution_count": 128,
     "metadata": {},
     "output_type": "execute_result"
    }
   ],
   "source": [
    "input_message.append(\n",
    "    {\n",
    "        \"role\": \"user\",\n",
    "        \"content\": \"Give a summary of all the completed task\"\n",
    "    }\n",
    ")\n",
    "response_2 = client.responses.create(\n",
    "    model=\"gpt-4o-mini\",\n",
    "    input=input_message,\n",
    "    tools=tools\n",
    ")\n",
    "\n",
    "response_2.output_text"
   ]
  },
  {
   "cell_type": "code",
   "execution_count": null,
   "metadata": {},
   "outputs": [],
   "source": []
  }
 ],
 "metadata": {
  "kernelspec": {
   "display_name": ".venv",
   "language": "python",
   "name": "python3"
  },
  "language_info": {
   "codemirror_mode": {
    "name": "ipython",
    "version": 3
   },
   "file_extension": ".py",
   "mimetype": "text/x-python",
   "name": "python",
   "nbconvert_exporter": "python",
   "pygments_lexer": "ipython3",
   "version": "3.13.3"
  }
 },
 "nbformat": 4,
 "nbformat_minor": 2
}

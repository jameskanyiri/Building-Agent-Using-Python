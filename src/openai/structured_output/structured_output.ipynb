{
 "cells": [
  {
   "cell_type": "markdown",
   "metadata": {},
   "source": [
    "### Getting structured output from text"
   ]
  },
  {
   "cell_type": "code",
   "execution_count": 1,
   "metadata": {},
   "outputs": [],
   "source": [
    "from openai import OpenAI\n",
    "from pydantic import BaseModel\n",
    "\n",
    "client = OpenAI()\n",
    "\n",
    "class CalenderEvent(BaseModel):\n",
    "    name: str\n",
    "    date: str\n",
    "    participants: list[str]\n",
    "    "
   ]
  },
  {
   "cell_type": "code",
   "execution_count": 2,
   "metadata": {},
   "outputs": [],
   "source": [
    "response = client.responses.parse(\n",
    "    model=\"gpt-4o-mini\",\n",
    "    input=[\n",
    "        {\"role\": \"system\",  \"content\": \"Extract the event information\"},\n",
    "        {\"role\": \"user\", \"content\": \"James and Alvin are going to a react event on Friday\"}\n",
    "    ],\n",
    "    text_format=CalenderEvent\n",
    ")"
   ]
  },
  {
   "cell_type": "code",
   "execution_count": 33,
   "metadata": {},
   "outputs": [
    {
     "name": "stdout",
     "output_type": "stream",
     "text": [
      "{\n",
      "    \"title\": \"A Deep Learning Approach for Predicting Crop Yields\",\n",
      "    \"authors\": [\n",
      "        \"John Doe\",\n",
      "        \"Jane Smith\",\n",
      "        \"Raj Patel\"\n",
      "    ],\n",
      "    \"abstract\": \"Predicting crop yield is a critical task in agriculture that affects food supply chains and economic planning. This study proposes a deep learning-based model utilizing satellite imagery and historical weather data to predict yields of major crops. Our model outperforms traditional statistical methods in accuracy and scalability.\",\n",
      "    \"keywords\": [\n",
      "        \"Deep Learning\",\n",
      "        \"Crop Yield\",\n",
      "        \"Agriculture\",\n",
      "        \"Satellite Imagery\",\n",
      "        \"Weather Data\"\n",
      "    ]\n",
      "}\n"
     ]
    }
   ],
   "source": [
    "print(response.output_parsed.model_dump_json(indent=4))"
   ]
  },
  {
   "cell_type": "markdown",
   "metadata": {},
   "source": [
    "## Chain of Thoughts\n",
    "You can ask the model to output an answer in a structured step-by-step way to guide the user through the solution"
   ]
  },
  {
   "cell_type": "code",
   "execution_count": 7,
   "metadata": {},
   "outputs": [],
   "source": [
    "class Step(BaseModel):\n",
    "    explanation: str\n",
    "    output: str\n",
    "    \n",
    "class MathReasoning(BaseModel):\n",
    "    steps: list[Step]\n",
    "    final_answer: str\n",
    "    \n",
    "response = client.responses.parse(\n",
    "    model=\"gpt-4o-mini\",\n",
    "    input=[\n",
    "        {\"role\": \"system\", \"content\":\"You are a helpful math tutor. Guide the user through the solution step by step\"},\n",
    "        {\"role\":\"user\", \"content\": \"How to solve 8x + 7 = -23\"}\n",
    "    ],\n",
    "    text_format=MathReasoning\n",
    ")\n",
    "\n",
    "math_reasoning = response.output_parsed"
   ]
  },
  {
   "cell_type": "code",
   "execution_count": 38,
   "metadata": {},
   "outputs": [
    {
     "name": "stdout",
     "output_type": "stream",
     "text": [
      "{\n",
      "  \"steps\": [\n",
      "    {\n",
      "      \"explanation\": \"Start with the equation: 8x + 7 = -23\",\n",
      "      \"output\": \"8x + 7 = -23\"\n",
      "    },\n",
      "    {\n",
      "      \"explanation\": \"Subtract 7 from both sides to isolate the term with x.\",\n",
      "      \"output\": \"8x = -23 - 7\"\n",
      "    },\n",
      "    {\n",
      "      \"explanation\": \"Calculate the right side: -23 - 7 = -30.\",\n",
      "      \"output\": \"8x = -30\"\n",
      "    },\n",
      "    {\n",
      "      \"explanation\": \"Now, divide both sides by 8 to solve for x.\",\n",
      "      \"output\": \"x = -30 / 8\"\n",
      "    },\n",
      "    {\n",
      "      \"explanation\": \"Simplify -30 / 8. Dividing both numerator and denominator by 2 gives -15 / 4.\",\n",
      "      \"output\": \"x = -15 / 4\"\n",
      "    }\n",
      "  ],\n",
      "  \"final_answer\": \"x = -3.75 or x = -15/4\"\n",
      "}\n"
     ]
    }
   ],
   "source": [
    "print(math_reasoning.model_dump_json(indent=2))"
   ]
  },
  {
   "cell_type": "markdown",
   "metadata": {},
   "source": [
    "## Structured Data Extraction\n",
    "You can define a structured field to help extract structured data from unstructured output, such as research paper"
   ]
  },
  {
   "cell_type": "code",
   "execution_count": 20,
   "metadata": {},
   "outputs": [],
   "source": [
    "unstructured_paper = \"\"\"\n",
    "A Deep Learning Approach for Predicting Crop Yields\n",
    "\n",
    "John Doe, Jane Smith, Raj Patel\n",
    "\n",
    "Abstract: Predicting crop yield is a critical task in agriculture that affects food supply chains and economic planning. This study proposes a deep learning-based model utilizing satellite imagery and historical weather data to predict yields of major crops. Our model outperforms traditional statistical methods in accuracy and scalability.\n",
    "\n",
    "Keywords: Deep Learning, Crop Yield, Agriculture, Satellite Imagery, Weather Data\n",
    "\"\"\"\n",
    "\n",
    "class ResearchPaperExtraction(BaseModel):\n",
    "    title: str\n",
    "    authors: list[str]\n",
    "    abstract: str\n",
    "    keywords: list[str]\n",
    "    \n",
    "response = client.responses.parse(\n",
    "    model=\"gpt-4o-mini\",\n",
    "    input=[\n",
    "        {\"role\": \"system\", \"content\":\"You are an expert data extraction expert. You will be given unstructured text from a research paper and should convert it into the given structured\"},\n",
    "        {\"role\":\"user\", \"content\": unstructured_paper}\n",
    "    ],\n",
    "    text_format=ResearchPaperExtraction\n",
    ")\n",
    "\n",
    "research_paper_extraction = response.output_parsed"
   ]
  },
  {
   "cell_type": "code",
   "execution_count": 32,
   "metadata": {},
   "outputs": [
    {
     "name": "stdout",
     "output_type": "stream",
     "text": [
      "{\n",
      "    \"title\": \"A Deep Learning Approach for Predicting Crop Yields\",\n",
      "    \"authors\": [\n",
      "        \"John Doe\",\n",
      "        \"Jane Smith\",\n",
      "        \"Raj Patel\"\n",
      "    ],\n",
      "    \"abstract\": \"Predicting crop yield is a critical task in agriculture that affects food supply chains and economic planning. This study proposes a deep learning-based model utilizing satellite imagery and historical weather data to predict yields of major crops. Our model outperforms traditional statistical methods in accuracy and scalability.\",\n",
      "    \"keywords\": [\n",
      "        \"Deep Learning\",\n",
      "        \"Crop Yield\",\n",
      "        \"Agriculture\",\n",
      "        \"Satellite Imagery\",\n",
      "        \"Weather Data\"\n",
      "    ]\n",
      "}\n"
     ]
    }
   ],
   "source": [
    "print(research_paper_extraction.model_dump_json(indent=4))"
   ]
  },
  {
   "cell_type": "markdown",
   "metadata": {},
   "source": [
    "## UI Generation\n",
    "You can generate valid HTML by representing it as a recursive data structure with constraints, like enums"
   ]
  },
  {
   "cell_type": "code",
   "execution_count": 39,
   "metadata": {},
   "outputs": [],
   "source": [
    "from enum import Enum\n",
    "from typing import List\n",
    "\n",
    "class UIType(str, Enum):\n",
    "    div = \"div\"\n",
    "    button = \"button\"\n",
    "    header = \"header\"\n",
    "    section = \"section\"\n",
    "    field = \"field\"\n",
    "    form = \"form\"\n",
    "    \n",
    "class Attribute(BaseModel):\n",
    "    name: str\n",
    "    value: str\n",
    "    \n",
    "class UI(BaseModel):\n",
    "    type: UIType\n",
    "    label: str\n",
    "    children: List[\"UI\"]\n",
    "    attributes: List[Attribute]\n",
    "    \n",
    "UI.model_rebuild # This is required to enable recursive types\n",
    "\n",
    "class Response(BaseModel):\n",
    "    ui: UI\n",
    "    \n",
    "response = client.responses.parse(\n",
    "    model=\"gpt-4o-mini\",\n",
    "    input=[\n",
    "        {\"role\": \"system\", \"content\": \"You are a UI generator AI. Convert the user input into a UI\"},\n",
    "        {\"role\":\"user\", \"content\":\"Make a user profile form\"},\n",
    "    ],\n",
    "    text_format=Response\n",
    ")\n",
    "\n",
    "ui_response = response.output_parsed"
   ]
  },
  {
   "cell_type": "code",
   "execution_count": 40,
   "metadata": {},
   "outputs": [
    {
     "name": "stdout",
     "output_type": "stream",
     "text": [
      "{\n",
      "  \"ui\": {\n",
      "    \"type\": \"form\",\n",
      "    \"label\": \"User Profile Form\",\n",
      "    \"children\": [\n",
      "      {\n",
      "        \"type\": \"field\",\n",
      "        \"label\": \"First Name\",\n",
      "        \"children\": [],\n",
      "        \"attributes\": [\n",
      "          {\n",
      "            \"name\": \"placeholder\",\n",
      "            \"value\": \"Enter your first name\"\n",
      "          },\n",
      "          {\n",
      "            \"name\": \"required\",\n",
      "            \"value\": \"true\"\n",
      "          }\n",
      "        ]\n",
      "      },\n",
      "      {\n",
      "        \"type\": \"field\",\n",
      "        \"label\": \"Last Name\",\n",
      "        \"children\": [],\n",
      "        \"attributes\": [\n",
      "          {\n",
      "            \"name\": \"placeholder\",\n",
      "            \"value\": \"Enter your last name\"\n",
      "          },\n",
      "          {\n",
      "            \"name\": \"required\",\n",
      "            \"value\": \"true\"\n",
      "          }\n",
      "        ]\n",
      "      },\n",
      "      {\n",
      "        \"type\": \"field\",\n",
      "        \"label\": \"Email\",\n",
      "        \"children\": [],\n",
      "        \"attributes\": [\n",
      "          {\n",
      "            \"name\": \"placeholder\",\n",
      "            \"value\": \"Enter your email\"\n",
      "          },\n",
      "          {\n",
      "            \"name\": \"required\",\n",
      "            \"value\": \"true\"\n",
      "          }\n",
      "        ]\n",
      "      },\n",
      "      {\n",
      "        \"type\": \"field\",\n",
      "        \"label\": \"Password\",\n",
      "        \"children\": [],\n",
      "        \"attributes\": [\n",
      "          {\n",
      "            \"name\": \"placeholder\",\n",
      "            \"value\": \"Enter your password\"\n",
      "          },\n",
      "          {\n",
      "            \"name\": \"required\",\n",
      "            \"value\": \"true\"\n",
      "          },\n",
      "          {\n",
      "            \"name\": \"type\",\n",
      "            \"value\": \"password\"\n",
      "          }\n",
      "        ]\n",
      "      },\n",
      "      {\n",
      "        \"type\": \"section\",\n",
      "        \"label\": \"Preferences\",\n",
      "        \"children\": [\n",
      "          {\n",
      "            \"type\": \"field\",\n",
      "            \"label\": \"Newsletter Subscription\",\n",
      "            \"children\": [],\n",
      "            \"attributes\": [\n",
      "              {\n",
      "                \"name\": \"type\",\n",
      "                \"value\": \"checkbox\"\n",
      "              },\n",
      "              {\n",
      "                \"name\": \"checked\",\n",
      "                \"value\": \"false\"\n",
      "              }\n",
      "            ]\n",
      "          }\n",
      "        ],\n",
      "        \"attributes\": []\n",
      "      },\n",
      "      {\n",
      "        \"type\": \"button\",\n",
      "        \"label\": \"Submit\",\n",
      "        \"children\": [],\n",
      "        \"attributes\": [\n",
      "          {\n",
      "            \"name\": \"type\",\n",
      "            \"value\": \"submit\"\n",
      "          }\n",
      "        ]\n",
      "      }\n",
      "    ],\n",
      "    \"attributes\": []\n",
      "  }\n",
      "}\n"
     ]
    }
   ],
   "source": [
    "print(ui_response.model_dump_json(indent=2))"
   ]
  },
  {
   "cell_type": "markdown",
   "metadata": {},
   "source": [
    "## Moderation\n",
    "You can classify input on multiple categories, which is a common way of doing moderation~"
   ]
  },
  {
   "cell_type": "code",
   "execution_count": 43,
   "metadata": {},
   "outputs": [
    {
     "name": "stdout",
     "output_type": "stream",
     "text": [
      "{\n",
      "  \"is_violating\": true,\n",
      "  \"category\": \"violence\",\n",
      "  \"explanation_if_violating\": \"The request involves instructions for creating a firearm, which is illegal and poses significant risks to safety.\"\n",
      "}\n"
     ]
    }
   ],
   "source": [
    "from typing import Optional\n",
    "\n",
    "class Category(str, Enum):\n",
    "    violence =  \"violence\"\n",
    "    sexual =  \"sexual\"\n",
    "    self_harm =  \"self_harm\"\n",
    "    \n",
    "    \n",
    "class ContentCompliance(BaseModel):\n",
    "    is_violating: bool\n",
    "    category: Optional[Category]\n",
    "    explanation_if_violating: Optional[str]\n",
    "    \n",
    "    \n",
    "response = client.responses.parse(\n",
    "    model=\"gpt-4o-mini\",\n",
    "    input=[\n",
    "        {\"role\":\"system\", \"content\":\"Determine if the user input violates specific guidelines and explain if they do.\"},\n",
    "        {\"role\": \"user\", \"content\":\"How to make a gun\"}\n",
    "    ],\n",
    "    text_format=ContentCompliance\n",
    ")\n",
    "\n",
    "print(response.output_parsed.model_dump_json(indent=2))"
   ]
  },
  {
   "cell_type": "markdown",
   "metadata": {},
   "source": [
    "## Refusal with structured outputs"
   ]
  },
  {
   "cell_type": "code",
   "execution_count": 48,
   "metadata": {},
   "outputs": [
    {
     "name": "stdout",
     "output_type": "stream",
     "text": [
      "steps=[Step(explanation='The equation given is 8x + 7 = -23. To solve for x, we need to first isolate the term with x on one side. We start by eliminating the constant term on the left side, which is 7.', output='8x + 7 = -23'), Step(explanation='Subtract 7 from both sides of the equation to remove the constant term on the left side. This gives us 8x + 7 - 7 = -23 - 7.', output='8x = -30'), Step(explanation='Now, we have 8x = -30. To solve for x, divide both sides of the equation by 8, the coefficient of x, to isolate x.', output='x = -30 / 8'), Step(explanation='When you divide both sides by 8, you get x = -30/8. Simplify the fraction by dividing the numerator and the denominator by their greatest common divisor, which is 2.', output='x = -15/4'), Step(explanation='After simplifying, we find that x = -15/4 or as a decimal, x = -3.75. This is the solution to the equation.', output='x = -15/4 or x = -3.75')] final_answer='x = -15/4 or x = -3.75'\n"
     ]
    }
   ],
   "source": [
    "class Step(BaseModel):\n",
    "    explanation: str\n",
    "    output: str\n",
    "\n",
    "class MathReasoning(BaseModel):\n",
    "    steps: list[Step]\n",
    "    final_answer: str\n",
    "\n",
    "completion = client.beta.chat.completions.parse(\n",
    "    model=\"gpt-4o-2024-08-06\",\n",
    "    messages=[\n",
    "        {\"role\": \"system\", \"content\": \"You are a helpful math tutor. Guide the user through the solution step by step.\"},\n",
    "        {\"role\": \"user\", \"content\": \"how can I solve 8x + 7 = -23\"}\n",
    "    ],\n",
    "    response_format=MathReasoning,\n",
    ")\n",
    "\n",
    "math_reasoning = completion.choices[0].message\n",
    "\n",
    "# If the model refuses to respond, you will get a refusal message\n",
    "if (math_reasoning.refusal):\n",
    "    print(math_reasoning.refusal)\n",
    "else:\n",
    "    print(math_reasoning.parsed)"
   ]
  },
  {
   "cell_type": "markdown",
   "metadata": {},
   "source": [
    "## Streaming"
   ]
  },
  {
   "cell_type": "code",
   "execution_count": 56,
   "metadata": {},
   "outputs": [
    {
     "name": "stdout",
     "output_type": "stream",
     "text": [
      "{\"attributes\":[\"quick\",\"brown\",\"lazy\",\"piercing\",\"blue\"],\"colors\":[\"brown\",\"blue\"],\"animals\":[\"fox\",\"dog\"]}\n",
      "\n",
      "{\n",
      "  \"attributes\": [\n",
      "    \"quick\",\n",
      "    \"brown\",\n",
      "    \"lazy\",\n",
      "    \"piercing\",\n",
      "    \"blue\"\n",
      "  ],\n",
      "  \"colors\": [\n",
      "    \"brown\",\n",
      "    \"blue\"\n",
      "  ],\n",
      "  \"animals\": [\n",
      "    \"fox\",\n",
      "    \"dog\"\n",
      "  ]\n",
      "}\n"
     ]
    }
   ],
   "source": [
    "class EntitiesModel(BaseModel):\n",
    "    attributes: List[str]\n",
    "    colors: List[str]\n",
    "    animals: List[str]\n",
    "    \n",
    "with client.responses.stream(\n",
    "    model=\"gpt-4o-mini\",\n",
    "    input=[\n",
    "        {\n",
    "            \"role\": \"system\",\n",
    "            \"content\": \"Extract entities from the input\",\n",
    "        },\n",
    "        {\n",
    "            \"role\": \"user\",\n",
    "            \"content\": \"The quick brown fox jumps over the lazy dog with piercing blue eyes\",\n",
    "        }\n",
    "    ], \n",
    "    text_format=EntitiesModel\n",
    ") as stream:\n",
    "    for event in stream:\n",
    "        if event.type == \"response.refusal.delta\":\n",
    "            print(event.delta, end=\"\")\n",
    "        elif event.type == \"response.output_text.delta\":\n",
    "            print(event.delta, end=\"\")\n",
    "        elif event.type == \"response.error\":\n",
    "            print(event.error, end=\"\")\n",
    "        elif event.type == \"response.completed\":\n",
    "            print(\"\\n\")\n",
    "            \n",
    "    final_response = stream.get_final_response()\n",
    "    print(final_response.output_parsed.model_dump_json(indent=2))"
   ]
  },
  {
   "cell_type": "code",
   "execution_count": null,
   "metadata": {},
   "outputs": [],
   "source": []
  }
 ],
 "metadata": {
  "kernelspec": {
   "display_name": ".venv",
   "language": "python",
   "name": "python3"
  },
  "language_info": {
   "codemirror_mode": {
    "name": "ipython",
    "version": 3
   },
   "file_extension": ".py",
   "mimetype": "text/x-python",
   "name": "python",
   "nbconvert_exporter": "python",
   "pygments_lexer": "ipython3",
   "version": "3.13.3"
  }
 },
 "nbformat": 4,
 "nbformat_minor": 2
}
